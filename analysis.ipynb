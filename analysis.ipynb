{
 "cells": [
  {
   "cell_type": "markdown",
   "metadata": {},
   "source": [
    "# Financial Inclusion in Africa\n"
   ]
  },
  {
   "cell_type": "markdown",
   "metadata": {},
   "source": [
    "Financial inclusion remains one of the main obstacles to economic and human development in Africa. For example, across Kenya, Rwanda, Tanzania, and Uganda only 9.1 million adults (or 14% of adults) have access to or use a commercial bank account."
   ]
  },
  {
   "cell_type": "markdown",
   "metadata": {},
   "source": [
    "## Objectives"
   ]
  },
  {
   "cell_type": "markdown",
   "metadata": {},
   "source": [
    "The objective of this competition is to create a machine learning model to predict which individuals are most likely to have or use a bank account. The models and solutions developed can provide an indication of the state of financial inclusion in Kenya, Rwanda, Tanzania and Uganda, while providing insights into some of the key factors driving individuals’ financial security."
   ]
  },
  {
   "cell_type": "markdown",
   "metadata": {},
   "source": [
    "## Data set"
   ]
  },
  {
   "cell_type": "markdown",
   "metadata": {},
   "source": [
    "We are asked to predict the likelihood of the person having a bank account or not (Yes = 1, No = 0), for each unique id in the test dataset . We will train our model on 70% of the data and test your model on the final 30% of the data, across four East African countries - Kenya, Rwanda, Tanzania, and Uganda.\n",
    "\n",
    "The main dataset contains demographic information and what financial services are used by approximately 33,600 individuals across East Africa. This data was extracted from various Finscope surveys ranging from 2016 to 2018, and more information about these surveys can be found here:"
   ]
  },
  {
   "cell_type": "markdown",
   "metadata": {},
   "source": [
    "### Country\t\n",
    "Country interviewee is in.\n",
    "### Year\t\n",
    "Year survey was done in.\n",
    "### Uniqueid\t\n",
    "Unique identifier for each interviewee\n",
    "### Location_type\t\n",
    "Type of location: Rural, Urban\n",
    "### Cellphone_access\t\n",
    "If interviewee has access to a cellphone: Yes, No\n",
    "### Household_size\t\n",
    "Number of people living in one house\n",
    "### Age_of_respondent\t\n",
    "The age of the interviewee\n",
    "### Gender_of_respondent\t\n",
    "Gender of interviewee: Male, Female\n",
    "### Relationship_with_head\t\n",
    "The interviewee’s relationship with the head of the house:Head of Household, Spouse, Child, Parent, Other relative, Other non-relatives, Dont know\n",
    "### Marital_status\t\n",
    "The martial status of the interviewee: Married/Living together, Divorced/Seperated, Widowed, Single/Never Married, Don’t know\n",
    "### Education_level\t\n",
    "Highest level of education: No formal education, Primary education, Secondary education, Vocational/Specialised training, Tertiary education, Other/Dont know/RTA\n",
    "### Job_type\t\n",
    "Type of job interviewee has: Farming and Fishing, Self employed, Formally employed Government, Formally employed Private, Informally employed, Remittance Dependent, Government Dependent, Other Income, No Income, Dont Know/Refuse to answer\n"
   ]
  },
  {
   "cell_type": "markdown",
   "metadata": {},
   "source": [
    "## Approach"
   ]
  },
  {
   "cell_type": "markdown",
   "metadata": {},
   "source": [
    "### Importing the dataset"
   ]
  },
  {
   "cell_type": "code",
   "execution_count": 144,
   "metadata": {},
   "outputs": [],
   "source": [
    "import pandas as pd\n",
    "import numpy as np\n",
    "import matplotlib.pyplot as plt\n",
    "import statsmodels.api as stats\n"
   ]
  },
  {
   "cell_type": "code",
   "execution_count": 145,
   "metadata": {},
   "outputs": [
    {
     "data": {
      "text/html": [
       "<div>\n",
       "<style scoped>\n",
       "    .dataframe tbody tr th:only-of-type {\n",
       "        vertical-align: middle;\n",
       "    }\n",
       "\n",
       "    .dataframe tbody tr th {\n",
       "        vertical-align: top;\n",
       "    }\n",
       "\n",
       "    .dataframe thead th {\n",
       "        text-align: right;\n",
       "    }\n",
       "</style>\n",
       "<table border=\"1\" class=\"dataframe\">\n",
       "  <thead>\n",
       "    <tr style=\"text-align: right;\">\n",
       "      <th></th>\n",
       "      <th>country</th>\n",
       "      <th>year</th>\n",
       "      <th>uniqueid</th>\n",
       "      <th>bank_account</th>\n",
       "      <th>location_type</th>\n",
       "      <th>cellphone_access</th>\n",
       "      <th>household_size</th>\n",
       "      <th>age_of_respondent</th>\n",
       "      <th>gender_of_respondent</th>\n",
       "      <th>relationship_with_head</th>\n",
       "      <th>marital_status</th>\n",
       "      <th>education_level</th>\n",
       "      <th>job_type</th>\n",
       "    </tr>\n",
       "  </thead>\n",
       "  <tbody>\n",
       "    <tr>\n",
       "      <th>0</th>\n",
       "      <td>Kenya</td>\n",
       "      <td>2018</td>\n",
       "      <td>uniqueid_1</td>\n",
       "      <td>Yes</td>\n",
       "      <td>Rural</td>\n",
       "      <td>Yes</td>\n",
       "      <td>3</td>\n",
       "      <td>24</td>\n",
       "      <td>Female</td>\n",
       "      <td>Spouse</td>\n",
       "      <td>Married/Living together</td>\n",
       "      <td>Secondary education</td>\n",
       "      <td>Self employed</td>\n",
       "    </tr>\n",
       "    <tr>\n",
       "      <th>1</th>\n",
       "      <td>Kenya</td>\n",
       "      <td>2018</td>\n",
       "      <td>uniqueid_2</td>\n",
       "      <td>No</td>\n",
       "      <td>Rural</td>\n",
       "      <td>No</td>\n",
       "      <td>5</td>\n",
       "      <td>70</td>\n",
       "      <td>Female</td>\n",
       "      <td>Head of Household</td>\n",
       "      <td>Widowed</td>\n",
       "      <td>No formal education</td>\n",
       "      <td>Government Dependent</td>\n",
       "    </tr>\n",
       "    <tr>\n",
       "      <th>2</th>\n",
       "      <td>Kenya</td>\n",
       "      <td>2018</td>\n",
       "      <td>uniqueid_3</td>\n",
       "      <td>Yes</td>\n",
       "      <td>Urban</td>\n",
       "      <td>Yes</td>\n",
       "      <td>5</td>\n",
       "      <td>26</td>\n",
       "      <td>Male</td>\n",
       "      <td>Other relative</td>\n",
       "      <td>Single/Never Married</td>\n",
       "      <td>Vocational/Specialised training</td>\n",
       "      <td>Self employed</td>\n",
       "    </tr>\n",
       "    <tr>\n",
       "      <th>3</th>\n",
       "      <td>Kenya</td>\n",
       "      <td>2018</td>\n",
       "      <td>uniqueid_4</td>\n",
       "      <td>No</td>\n",
       "      <td>Rural</td>\n",
       "      <td>Yes</td>\n",
       "      <td>5</td>\n",
       "      <td>34</td>\n",
       "      <td>Female</td>\n",
       "      <td>Head of Household</td>\n",
       "      <td>Married/Living together</td>\n",
       "      <td>Primary education</td>\n",
       "      <td>Formally employed Private</td>\n",
       "    </tr>\n",
       "    <tr>\n",
       "      <th>4</th>\n",
       "      <td>Kenya</td>\n",
       "      <td>2018</td>\n",
       "      <td>uniqueid_5</td>\n",
       "      <td>No</td>\n",
       "      <td>Urban</td>\n",
       "      <td>No</td>\n",
       "      <td>8</td>\n",
       "      <td>26</td>\n",
       "      <td>Male</td>\n",
       "      <td>Child</td>\n",
       "      <td>Single/Never Married</td>\n",
       "      <td>Primary education</td>\n",
       "      <td>Informally employed</td>\n",
       "    </tr>\n",
       "  </tbody>\n",
       "</table>\n",
       "</div>"
      ],
      "text/plain": [
       "  country  year    uniqueid bank_account location_type cellphone_access  \\\n",
       "0   Kenya  2018  uniqueid_1          Yes         Rural              Yes   \n",
       "1   Kenya  2018  uniqueid_2           No         Rural               No   \n",
       "2   Kenya  2018  uniqueid_3          Yes         Urban              Yes   \n",
       "3   Kenya  2018  uniqueid_4           No         Rural              Yes   \n",
       "4   Kenya  2018  uniqueid_5           No         Urban               No   \n",
       "\n",
       "   household_size  age_of_respondent gender_of_respondent  \\\n",
       "0               3                 24               Female   \n",
       "1               5                 70               Female   \n",
       "2               5                 26                 Male   \n",
       "3               5                 34               Female   \n",
       "4               8                 26                 Male   \n",
       "\n",
       "  relationship_with_head           marital_status  \\\n",
       "0                 Spouse  Married/Living together   \n",
       "1      Head of Household                  Widowed   \n",
       "2         Other relative     Single/Never Married   \n",
       "3      Head of Household  Married/Living together   \n",
       "4                  Child     Single/Never Married   \n",
       "\n",
       "                   education_level                   job_type  \n",
       "0              Secondary education              Self employed  \n",
       "1              No formal education       Government Dependent  \n",
       "2  Vocational/Specialised training              Self employed  \n",
       "3                Primary education  Formally employed Private  \n",
       "4                Primary education        Informally employed  "
      ]
     },
     "execution_count": 145,
     "metadata": {},
     "output_type": "execute_result"
    }
   ],
   "source": [
    "df = pd.read_csv(\"./train.csv\")\n",
    "# inspecting the dataset \n",
    "df.head()"
   ]
  },
  {
   "cell_type": "code",
   "execution_count": 146,
   "metadata": {},
   "outputs": [
    {
     "data": {
      "text/plain": [
       "country                      4\n",
       "year                         3\n",
       "uniqueid                  8735\n",
       "bank_account                 2\n",
       "location_type                2\n",
       "cellphone_access             2\n",
       "household_size              20\n",
       "age_of_respondent           85\n",
       "gender_of_respondent         2\n",
       "relationship_with_head       6\n",
       "marital_status               5\n",
       "education_level              6\n",
       "job_type                    10\n",
       "dtype: int64"
      ]
     },
     "execution_count": 146,
     "metadata": {},
     "output_type": "execute_result"
    }
   ],
   "source": [
    "df.nunique()"
   ]
  },
  {
   "cell_type": "code",
   "execution_count": 147,
   "metadata": {},
   "outputs": [
    {
     "data": {
      "text/plain": [
       "country                   object\n",
       "year                       int64\n",
       "uniqueid                  object\n",
       "bank_account              object\n",
       "location_type             object\n",
       "cellphone_access          object\n",
       "household_size             int64\n",
       "age_of_respondent          int64\n",
       "gender_of_respondent      object\n",
       "relationship_with_head    object\n",
       "marital_status            object\n",
       "education_level           object\n",
       "job_type                  object\n",
       "dtype: object"
      ]
     },
     "execution_count": 147,
     "metadata": {},
     "output_type": "execute_result"
    }
   ],
   "source": [
    "df.dtypes"
   ]
  },
  {
   "cell_type": "markdown",
   "metadata": {},
   "source": [
    "### Checking for Null Data"
   ]
  },
  {
   "cell_type": "code",
   "execution_count": 148,
   "metadata": {},
   "outputs": [
    {
     "data": {
      "text/plain": [
       "country                   0\n",
       "year                      0\n",
       "uniqueid                  0\n",
       "bank_account              0\n",
       "location_type             0\n",
       "cellphone_access          0\n",
       "household_size            0\n",
       "age_of_respondent         0\n",
       "gender_of_respondent      0\n",
       "relationship_with_head    0\n",
       "marital_status            0\n",
       "education_level           0\n",
       "job_type                  0\n",
       "dtype: int64"
      ]
     },
     "execution_count": 148,
     "metadata": {},
     "output_type": "execute_result"
    }
   ],
   "source": [
    "df.isna().sum()"
   ]
  },
  {
   "cell_type": "markdown",
   "metadata": {},
   "source": [
    "### Checking for duplicate data"
   ]
  },
  {
   "cell_type": "code",
   "execution_count": 149,
   "metadata": {},
   "outputs": [
    {
     "data": {
      "text/plain": [
       "0"
      ]
     },
     "execution_count": 149,
     "metadata": {},
     "output_type": "execute_result"
    }
   ],
   "source": [
    "df.duplicated().sum()"
   ]
  },
  {
   "cell_type": "markdown",
   "metadata": {},
   "source": [
    "### Removing unnecessary data"
   ]
  },
  {
   "cell_type": "code",
   "execution_count": 150,
   "metadata": {},
   "outputs": [],
   "source": [
    "df.drop(\"uniqueid\",axis=1,inplace=True)"
   ]
  },
  {
   "cell_type": "markdown",
   "metadata": {},
   "source": [
    "### Checking for correlation between variables"
   ]
  },
  {
   "cell_type": "markdown",
   "metadata": {},
   "source": [
    "In order to use correlation between variables we need to implement one hot encoding on categorical data so that they can be used for analysis too"
   ]
  },
  {
   "cell_type": "code",
   "execution_count": 151,
   "metadata": {},
   "outputs": [
    {
     "data": {
      "text/plain": [
       "['bank_account_Yes']"
      ]
     },
     "execution_count": 151,
     "metadata": {},
     "output_type": "execute_result"
    }
   ],
   "source": [
    "# One Hot Encoding\n",
    "dummy = pd.get_dummies(df.select_dtypes(include=\"object\"),drop_first=True)\n",
    "dummy = dummy.astype(int)\n",
    "list1 = [x for x in list(dummy.columns) if \"bank\" in x]\n",
    "list1"
   ]
  },
  {
   "cell_type": "code",
   "execution_count": 152,
   "metadata": {},
   "outputs": [],
   "source": [
    "df = pd.concat([dummy,df.select_dtypes(exclude=object)],axis=1)\n",
    "# Returing bank_account to original name \n",
    "df =df.rename({\"bank_account_Yes\":\"bank_account\"},axis=1)\n"
   ]
  },
  {
   "cell_type": "code",
   "execution_count": 153,
   "metadata": {},
   "outputs": [],
   "source": [
    "# df.corr().style.background_gradient(\"coolwarm\")"
   ]
  },
  {
   "cell_type": "markdown",
   "metadata": {},
   "source": [
    "### Starting Analysis by using Linear Regression"
   ]
  },
  {
   "cell_type": "markdown",
   "metadata": {},
   "source": [
    "#### Define our dependant and independant variable"
   ]
  },
  {
   "cell_type": "code",
   "execution_count": 154,
   "metadata": {},
   "outputs": [],
   "source": [
    "Y_axis = df[\"bank_account\"]\n",
    "X_axis = stats.add_constant(df.drop([\"bank_account\"],axis=1))"
   ]
  },
  {
   "cell_type": "markdown",
   "metadata": {},
   "source": [
    "#### Create our model"
   ]
  },
  {
   "cell_type": "code",
   "execution_count": 155,
   "metadata": {},
   "outputs": [
    {
     "data": {
      "text/html": [
       "<table class=\"simpletable\">\n",
       "<caption>OLS Regression Results</caption>\n",
       "<tr>\n",
       "  <th>Dep. Variable:</th>      <td>bank_account</td>   <th>  R-squared:         </th> <td>   0.264</td> \n",
       "</tr>\n",
       "<tr>\n",
       "  <th>Model:</th>                   <td>OLS</td>       <th>  Adj. R-squared:    </th> <td>   0.263</td> \n",
       "</tr>\n",
       "<tr>\n",
       "  <th>Method:</th>             <td>Least Squares</td>  <th>  F-statistic:       </th> <td>   271.2</td> \n",
       "</tr>\n",
       "<tr>\n",
       "  <th>Date:</th>             <td>Thu, 29 Feb 2024</td> <th>  Prob (F-statistic):</th>  <td>  0.00</td>  \n",
       "</tr>\n",
       "<tr>\n",
       "  <th>Time:</th>                 <td>06:47:00</td>     <th>  Log-Likelihood:    </th> <td> -4936.9</td> \n",
       "</tr>\n",
       "<tr>\n",
       "  <th>No. Observations:</th>      <td> 23524</td>      <th>  AIC:               </th> <td>   9938.</td> \n",
       "</tr>\n",
       "<tr>\n",
       "  <th>Df Residuals:</th>          <td> 23492</td>      <th>  BIC:               </th> <td>1.020e+04</td>\n",
       "</tr>\n",
       "<tr>\n",
       "  <th>Df Model:</th>              <td>    31</td>      <th>                     </th>     <td> </td>    \n",
       "</tr>\n",
       "<tr>\n",
       "  <th>Covariance Type:</th>      <td>nonrobust</td>    <th>                     </th>     <td> </td>    \n",
       "</tr>\n",
       "</table>\n",
       "<table class=\"simpletable\">\n",
       "<tr>\n",
       "                         <td></td>                            <th>coef</th>     <th>std err</th>      <th>t</th>      <th>P>|t|</th>  <th>[0.025</th>    <th>0.975]</th>  \n",
       "</tr>\n",
       "<tr>\n",
       "  <th>const</th>                                           <td>   -0.0001</td> <td> 7.32e-06</td> <td>  -15.210</td> <td> 0.000</td> <td>   -0.000</td> <td>-9.69e-05</td>\n",
       "</tr>\n",
       "<tr>\n",
       "  <th>country_Rwanda</th>                                  <td>   -0.0464</td> <td>    0.005</td> <td>   -8.592</td> <td> 0.000</td> <td>   -0.057</td> <td>   -0.036</td>\n",
       "</tr>\n",
       "<tr>\n",
       "  <th>country_Tanzania</th>                                <td>   -0.1317</td> <td>    0.007</td> <td>  -18.503</td> <td> 0.000</td> <td>   -0.146</td> <td>   -0.118</td>\n",
       "</tr>\n",
       "<tr>\n",
       "  <th>country_Uganda</th>                                  <td>   -0.1611</td> <td>    0.009</td> <td>  -17.739</td> <td> 0.000</td> <td>   -0.179</td> <td>   -0.143</td>\n",
       "</tr>\n",
       "<tr>\n",
       "  <th>location_type_Urban</th>                             <td>    0.0422</td> <td>    0.005</td> <td>    8.798</td> <td> 0.000</td> <td>    0.033</td> <td>    0.052</td>\n",
       "</tr>\n",
       "<tr>\n",
       "  <th>cellphone_access_Yes</th>                            <td>    0.0736</td> <td>    0.005</td> <td>   15.156</td> <td> 0.000</td> <td>    0.064</td> <td>    0.083</td>\n",
       "</tr>\n",
       "<tr>\n",
       "  <th>gender_of_respondent_Male</th>                       <td>    0.0382</td> <td>    0.005</td> <td>    7.290</td> <td> 0.000</td> <td>    0.028</td> <td>    0.049</td>\n",
       "</tr>\n",
       "<tr>\n",
       "  <th>relationship_with_head_Head of Household</th>        <td>    0.0770</td> <td>    0.009</td> <td>    8.725</td> <td> 0.000</td> <td>    0.060</td> <td>    0.094</td>\n",
       "</tr>\n",
       "<tr>\n",
       "  <th>relationship_with_head_Other non-relatives</th>      <td>   -0.0142</td> <td>    0.023</td> <td>   -0.621</td> <td> 0.535</td> <td>   -0.059</td> <td>    0.031</td>\n",
       "</tr>\n",
       "<tr>\n",
       "  <th>relationship_with_head_Other relative</th>           <td>    0.0017</td> <td>    0.014</td> <td>    0.128</td> <td> 0.898</td> <td>   -0.025</td> <td>    0.028</td>\n",
       "</tr>\n",
       "<tr>\n",
       "  <th>relationship_with_head_Parent</th>                   <td>    0.0179</td> <td>    0.012</td> <td>    1.501</td> <td> 0.133</td> <td>   -0.005</td> <td>    0.041</td>\n",
       "</tr>\n",
       "<tr>\n",
       "  <th>relationship_with_head_Spouse</th>                   <td>    0.0635</td> <td>    0.010</td> <td>    6.683</td> <td> 0.000</td> <td>    0.045</td> <td>    0.082</td>\n",
       "</tr>\n",
       "<tr>\n",
       "  <th>marital_status_Dont know</th>                        <td>    0.0399</td> <td>    0.106</td> <td>    0.377</td> <td> 0.706</td> <td>   -0.168</td> <td>    0.248</td>\n",
       "</tr>\n",
       "<tr>\n",
       "  <th>marital_status_Married/Living together</th>          <td>    0.0286</td> <td>    0.009</td> <td>    3.314</td> <td> 0.001</td> <td>    0.012</td> <td>    0.046</td>\n",
       "</tr>\n",
       "<tr>\n",
       "  <th>marital_status_Single/Never Married</th>             <td>    0.0047</td> <td>    0.008</td> <td>    0.607</td> <td> 0.544</td> <td>   -0.011</td> <td>    0.020</td>\n",
       "</tr>\n",
       "<tr>\n",
       "  <th>marital_status_Widowed</th>                          <td>    0.0089</td> <td>    0.010</td> <td>    0.883</td> <td> 0.377</td> <td>   -0.011</td> <td>    0.029</td>\n",
       "</tr>\n",
       "<tr>\n",
       "  <th>education_level_Other/Dont know/RTA</th>             <td>    0.2177</td> <td>    0.051</td> <td>    4.288</td> <td> 0.000</td> <td>    0.118</td> <td>    0.317</td>\n",
       "</tr>\n",
       "<tr>\n",
       "  <th>education_level_Primary education</th>               <td>    0.0477</td> <td>    0.006</td> <td>    8.512</td> <td> 0.000</td> <td>    0.037</td> <td>    0.059</td>\n",
       "</tr>\n",
       "<tr>\n",
       "  <th>education_level_Secondary education</th>             <td>    0.1630</td> <td>    0.007</td> <td>   22.175</td> <td> 0.000</td> <td>    0.149</td> <td>    0.177</td>\n",
       "</tr>\n",
       "<tr>\n",
       "  <th>education_level_Tertiary education</th>              <td>    0.3900</td> <td>    0.011</td> <td>   35.849</td> <td> 0.000</td> <td>    0.369</td> <td>    0.411</td>\n",
       "</tr>\n",
       "<tr>\n",
       "  <th>education_level_Vocational/Specialised training</th> <td>    0.3841</td> <td>    0.012</td> <td>   31.043</td> <td> 0.000</td> <td>    0.360</td> <td>    0.408</td>\n",
       "</tr>\n",
       "<tr>\n",
       "  <th>job_type_Farming and Fishing</th>                    <td>   -0.0657</td> <td>    0.027</td> <td>   -2.406</td> <td> 0.016</td> <td>   -0.119</td> <td>   -0.012</td>\n",
       "</tr>\n",
       "<tr>\n",
       "  <th>job_type_Formally employed Government</th>           <td>    0.3326</td> <td>    0.031</td> <td>   10.631</td> <td> 0.000</td> <td>    0.271</td> <td>    0.394</td>\n",
       "</tr>\n",
       "<tr>\n",
       "  <th>job_type_Formally employed Private</th>              <td>    0.2314</td> <td>    0.029</td> <td>    8.096</td> <td> 0.000</td> <td>    0.175</td> <td>    0.287</td>\n",
       "</tr>\n",
       "<tr>\n",
       "  <th>job_type_Government Dependent</th>                   <td>    0.0611</td> <td>    0.033</td> <td>    1.842</td> <td> 0.065</td> <td>   -0.004</td> <td>    0.126</td>\n",
       "</tr>\n",
       "<tr>\n",
       "  <th>job_type_Informally employed</th>                    <td>   -0.0764</td> <td>    0.027</td> <td>   -2.803</td> <td> 0.005</td> <td>   -0.130</td> <td>   -0.023</td>\n",
       "</tr>\n",
       "<tr>\n",
       "  <th>job_type_No Income</th>                              <td>   -0.0249</td> <td>    0.029</td> <td>   -0.848</td> <td> 0.397</td> <td>   -0.083</td> <td>    0.033</td>\n",
       "</tr>\n",
       "<tr>\n",
       "  <th>job_type_Other Income</th>                           <td>    0.0432</td> <td>    0.028</td> <td>    1.535</td> <td> 0.125</td> <td>   -0.012</td> <td>    0.098</td>\n",
       "</tr>\n",
       "<tr>\n",
       "  <th>job_type_Remittance Dependent</th>                   <td>   -0.0784</td> <td>    0.028</td> <td>   -2.831</td> <td> 0.005</td> <td>   -0.133</td> <td>   -0.024</td>\n",
       "</tr>\n",
       "<tr>\n",
       "  <th>job_type_Self employed</th>                          <td>    0.0034</td> <td>    0.027</td> <td>    0.126</td> <td> 0.900</td> <td>   -0.050</td> <td>    0.057</td>\n",
       "</tr>\n",
       "<tr>\n",
       "  <th>year</th>                                            <td>-3.165e-05</td> <td>  1.5e-05</td> <td>   -2.105</td> <td> 0.035</td> <td>-6.11e-05</td> <td>-2.18e-06</td>\n",
       "</tr>\n",
       "<tr>\n",
       "  <th>household_size</th>                                  <td>   -0.0008</td> <td>    0.001</td> <td>   -0.719</td> <td> 0.472</td> <td>   -0.003</td> <td>    0.001</td>\n",
       "</tr>\n",
       "<tr>\n",
       "  <th>age_of_respondent</th>                               <td>    0.0013</td> <td>    0.000</td> <td>    7.904</td> <td> 0.000</td> <td>    0.001</td> <td>    0.002</td>\n",
       "</tr>\n",
       "</table>\n",
       "<table class=\"simpletable\">\n",
       "<tr>\n",
       "  <th>Omnibus:</th>       <td>6679.025</td> <th>  Durbin-Watson:     </th> <td>   2.000</td> \n",
       "</tr>\n",
       "<tr>\n",
       "  <th>Prob(Omnibus):</th>  <td> 0.000</td>  <th>  Jarque-Bera (JB):  </th> <td>16750.253</td>\n",
       "</tr>\n",
       "<tr>\n",
       "  <th>Skew:</th>           <td> 1.569</td>  <th>  Prob(JB):          </th> <td>    0.00</td> \n",
       "</tr>\n",
       "<tr>\n",
       "  <th>Kurtosis:</th>       <td> 5.692</td>  <th>  Cond. No.          </th> <td>1.59e+18</td> \n",
       "</tr>\n",
       "</table><br/><br/>Notes:<br/>[1] Standard Errors assume that the covariance matrix of the errors is correctly specified.<br/>[2] The smallest eigenvalue is 3.81e-26. This might indicate that there are<br/>strong multicollinearity problems or that the design matrix is singular."
      ],
      "text/latex": [
       "\\begin{center}\n",
       "\\begin{tabular}{lclc}\n",
       "\\toprule\n",
       "\\textbf{Dep. Variable:}                                    &  bank\\_account   & \\textbf{  R-squared:         } &     0.264   \\\\\n",
       "\\textbf{Model:}                                            &       OLS        & \\textbf{  Adj. R-squared:    } &     0.263   \\\\\n",
       "\\textbf{Method:}                                           &  Least Squares   & \\textbf{  F-statistic:       } &     271.2   \\\\\n",
       "\\textbf{Date:}                                             & Thu, 29 Feb 2024 & \\textbf{  Prob (F-statistic):} &     0.00    \\\\\n",
       "\\textbf{Time:}                                             &     06:47:00     & \\textbf{  Log-Likelihood:    } &   -4936.9   \\\\\n",
       "\\textbf{No. Observations:}                                 &       23524      & \\textbf{  AIC:               } &     9938.   \\\\\n",
       "\\textbf{Df Residuals:}                                     &       23492      & \\textbf{  BIC:               } & 1.020e+04   \\\\\n",
       "\\textbf{Df Model:}                                         &          31      & \\textbf{                     } &             \\\\\n",
       "\\textbf{Covariance Type:}                                  &    nonrobust     & \\textbf{                     } &             \\\\\n",
       "\\bottomrule\n",
       "\\end{tabular}\n",
       "\\begin{tabular}{lcccccc}\n",
       "                                                           & \\textbf{coef} & \\textbf{std err} & \\textbf{t} & \\textbf{P$> |$t$|$} & \\textbf{[0.025} & \\textbf{0.975]}  \\\\\n",
       "\\midrule\n",
       "\\textbf{const}                                             &      -0.0001  &     7.32e-06     &   -15.210  &         0.000        &       -0.000    &    -9.69e-05     \\\\\n",
       "\\textbf{country\\_Rwanda}                                   &      -0.0464  &        0.005     &    -8.592  &         0.000        &       -0.057    &       -0.036     \\\\\n",
       "\\textbf{country\\_Tanzania}                                 &      -0.1317  &        0.007     &   -18.503  &         0.000        &       -0.146    &       -0.118     \\\\\n",
       "\\textbf{country\\_Uganda}                                   &      -0.1611  &        0.009     &   -17.739  &         0.000        &       -0.179    &       -0.143     \\\\\n",
       "\\textbf{location\\_type\\_Urban}                             &       0.0422  &        0.005     &     8.798  &         0.000        &        0.033    &        0.052     \\\\\n",
       "\\textbf{cellphone\\_access\\_Yes}                            &       0.0736  &        0.005     &    15.156  &         0.000        &        0.064    &        0.083     \\\\\n",
       "\\textbf{gender\\_of\\_respondent\\_Male}                      &       0.0382  &        0.005     &     7.290  &         0.000        &        0.028    &        0.049     \\\\\n",
       "\\textbf{relationship\\_with\\_head\\_Head of Household}       &       0.0770  &        0.009     &     8.725  &         0.000        &        0.060    &        0.094     \\\\\n",
       "\\textbf{relationship\\_with\\_head\\_Other non-relatives}     &      -0.0142  &        0.023     &    -0.621  &         0.535        &       -0.059    &        0.031     \\\\\n",
       "\\textbf{relationship\\_with\\_head\\_Other relative}          &       0.0017  &        0.014     &     0.128  &         0.898        &       -0.025    &        0.028     \\\\\n",
       "\\textbf{relationship\\_with\\_head\\_Parent}                  &       0.0179  &        0.012     &     1.501  &         0.133        &       -0.005    &        0.041     \\\\\n",
       "\\textbf{relationship\\_with\\_head\\_Spouse}                  &       0.0635  &        0.010     &     6.683  &         0.000        &        0.045    &        0.082     \\\\\n",
       "\\textbf{marital\\_status\\_Dont know}                        &       0.0399  &        0.106     &     0.377  &         0.706        &       -0.168    &        0.248     \\\\\n",
       "\\textbf{marital\\_status\\_Married/Living together}          &       0.0286  &        0.009     &     3.314  &         0.001        &        0.012    &        0.046     \\\\\n",
       "\\textbf{marital\\_status\\_Single/Never Married}             &       0.0047  &        0.008     &     0.607  &         0.544        &       -0.011    &        0.020     \\\\\n",
       "\\textbf{marital\\_status\\_Widowed}                          &       0.0089  &        0.010     &     0.883  &         0.377        &       -0.011    &        0.029     \\\\\n",
       "\\textbf{education\\_level\\_Other/Dont know/RTA}             &       0.2177  &        0.051     &     4.288  &         0.000        &        0.118    &        0.317     \\\\\n",
       "\\textbf{education\\_level\\_Primary education}               &       0.0477  &        0.006     &     8.512  &         0.000        &        0.037    &        0.059     \\\\\n",
       "\\textbf{education\\_level\\_Secondary education}             &       0.1630  &        0.007     &    22.175  &         0.000        &        0.149    &        0.177     \\\\\n",
       "\\textbf{education\\_level\\_Tertiary education}              &       0.3900  &        0.011     &    35.849  &         0.000        &        0.369    &        0.411     \\\\\n",
       "\\textbf{education\\_level\\_Vocational/Specialised training} &       0.3841  &        0.012     &    31.043  &         0.000        &        0.360    &        0.408     \\\\\n",
       "\\textbf{job\\_type\\_Farming and Fishing}                    &      -0.0657  &        0.027     &    -2.406  &         0.016        &       -0.119    &       -0.012     \\\\\n",
       "\\textbf{job\\_type\\_Formally employed Government}           &       0.3326  &        0.031     &    10.631  &         0.000        &        0.271    &        0.394     \\\\\n",
       "\\textbf{job\\_type\\_Formally employed Private}              &       0.2314  &        0.029     &     8.096  &         0.000        &        0.175    &        0.287     \\\\\n",
       "\\textbf{job\\_type\\_Government Dependent}                   &       0.0611  &        0.033     &     1.842  &         0.065        &       -0.004    &        0.126     \\\\\n",
       "\\textbf{job\\_type\\_Informally employed}                    &      -0.0764  &        0.027     &    -2.803  &         0.005        &       -0.130    &       -0.023     \\\\\n",
       "\\textbf{job\\_type\\_No Income}                              &      -0.0249  &        0.029     &    -0.848  &         0.397        &       -0.083    &        0.033     \\\\\n",
       "\\textbf{job\\_type\\_Other Income}                           &       0.0432  &        0.028     &     1.535  &         0.125        &       -0.012    &        0.098     \\\\\n",
       "\\textbf{job\\_type\\_Remittance Dependent}                   &      -0.0784  &        0.028     &    -2.831  &         0.005        &       -0.133    &       -0.024     \\\\\n",
       "\\textbf{job\\_type\\_Self employed}                          &       0.0034  &        0.027     &     0.126  &         0.900        &       -0.050    &        0.057     \\\\\n",
       "\\textbf{year}                                              &   -3.165e-05  &      1.5e-05     &    -2.105  &         0.035        &    -6.11e-05    &    -2.18e-06     \\\\\n",
       "\\textbf{household\\_size}                                   &      -0.0008  &        0.001     &    -0.719  &         0.472        &       -0.003    &        0.001     \\\\\n",
       "\\textbf{age\\_of\\_respondent}                               &       0.0013  &        0.000     &     7.904  &         0.000        &        0.001    &        0.002     \\\\\n",
       "\\bottomrule\n",
       "\\end{tabular}\n",
       "\\begin{tabular}{lclc}\n",
       "\\textbf{Omnibus:}       & 6679.025 & \\textbf{  Durbin-Watson:     } &     2.000  \\\\\n",
       "\\textbf{Prob(Omnibus):} &   0.000  & \\textbf{  Jarque-Bera (JB):  } & 16750.253  \\\\\n",
       "\\textbf{Skew:}          &   1.569  & \\textbf{  Prob(JB):          } &      0.00  \\\\\n",
       "\\textbf{Kurtosis:}      &   5.692  & \\textbf{  Cond. No.          } &  1.59e+18  \\\\\n",
       "\\bottomrule\n",
       "\\end{tabular}\n",
       "%\\caption{OLS Regression Results}\n",
       "\\end{center}\n",
       "\n",
       "Notes: \\newline\n",
       " [1] Standard Errors assume that the covariance matrix of the errors is correctly specified. \\newline\n",
       " [2] The smallest eigenvalue is 3.81e-26. This might indicate that there are \\newline\n",
       " strong multicollinearity problems or that the design matrix is singular."
      ],
      "text/plain": [
       "<class 'statsmodels.iolib.summary.Summary'>\n",
       "\"\"\"\n",
       "                            OLS Regression Results                            \n",
       "==============================================================================\n",
       "Dep. Variable:           bank_account   R-squared:                       0.264\n",
       "Model:                            OLS   Adj. R-squared:                  0.263\n",
       "Method:                 Least Squares   F-statistic:                     271.2\n",
       "Date:                Thu, 29 Feb 2024   Prob (F-statistic):               0.00\n",
       "Time:                        06:47:00   Log-Likelihood:                -4936.9\n",
       "No. Observations:               23524   AIC:                             9938.\n",
       "Df Residuals:                   23492   BIC:                         1.020e+04\n",
       "Df Model:                          31                                         \n",
       "Covariance Type:            nonrobust                                         \n",
       "===================================================================================================================\n",
       "                                                      coef    std err          t      P>|t|      [0.025      0.975]\n",
       "-------------------------------------------------------------------------------------------------------------------\n",
       "const                                              -0.0001   7.32e-06    -15.210      0.000      -0.000   -9.69e-05\n",
       "country_Rwanda                                     -0.0464      0.005     -8.592      0.000      -0.057      -0.036\n",
       "country_Tanzania                                   -0.1317      0.007    -18.503      0.000      -0.146      -0.118\n",
       "country_Uganda                                     -0.1611      0.009    -17.739      0.000      -0.179      -0.143\n",
       "location_type_Urban                                 0.0422      0.005      8.798      0.000       0.033       0.052\n",
       "cellphone_access_Yes                                0.0736      0.005     15.156      0.000       0.064       0.083\n",
       "gender_of_respondent_Male                           0.0382      0.005      7.290      0.000       0.028       0.049\n",
       "relationship_with_head_Head of Household            0.0770      0.009      8.725      0.000       0.060       0.094\n",
       "relationship_with_head_Other non-relatives         -0.0142      0.023     -0.621      0.535      -0.059       0.031\n",
       "relationship_with_head_Other relative               0.0017      0.014      0.128      0.898      -0.025       0.028\n",
       "relationship_with_head_Parent                       0.0179      0.012      1.501      0.133      -0.005       0.041\n",
       "relationship_with_head_Spouse                       0.0635      0.010      6.683      0.000       0.045       0.082\n",
       "marital_status_Dont know                            0.0399      0.106      0.377      0.706      -0.168       0.248\n",
       "marital_status_Married/Living together              0.0286      0.009      3.314      0.001       0.012       0.046\n",
       "marital_status_Single/Never Married                 0.0047      0.008      0.607      0.544      -0.011       0.020\n",
       "marital_status_Widowed                              0.0089      0.010      0.883      0.377      -0.011       0.029\n",
       "education_level_Other/Dont know/RTA                 0.2177      0.051      4.288      0.000       0.118       0.317\n",
       "education_level_Primary education                   0.0477      0.006      8.512      0.000       0.037       0.059\n",
       "education_level_Secondary education                 0.1630      0.007     22.175      0.000       0.149       0.177\n",
       "education_level_Tertiary education                  0.3900      0.011     35.849      0.000       0.369       0.411\n",
       "education_level_Vocational/Specialised training     0.3841      0.012     31.043      0.000       0.360       0.408\n",
       "job_type_Farming and Fishing                       -0.0657      0.027     -2.406      0.016      -0.119      -0.012\n",
       "job_type_Formally employed Government               0.3326      0.031     10.631      0.000       0.271       0.394\n",
       "job_type_Formally employed Private                  0.2314      0.029      8.096      0.000       0.175       0.287\n",
       "job_type_Government Dependent                       0.0611      0.033      1.842      0.065      -0.004       0.126\n",
       "job_type_Informally employed                       -0.0764      0.027     -2.803      0.005      -0.130      -0.023\n",
       "job_type_No Income                                 -0.0249      0.029     -0.848      0.397      -0.083       0.033\n",
       "job_type_Other Income                               0.0432      0.028      1.535      0.125      -0.012       0.098\n",
       "job_type_Remittance Dependent                      -0.0784      0.028     -2.831      0.005      -0.133      -0.024\n",
       "job_type_Self employed                              0.0034      0.027      0.126      0.900      -0.050       0.057\n",
       "year                                            -3.165e-05    1.5e-05     -2.105      0.035   -6.11e-05   -2.18e-06\n",
       "household_size                                     -0.0008      0.001     -0.719      0.472      -0.003       0.001\n",
       "age_of_respondent                                   0.0013      0.000      7.904      0.000       0.001       0.002\n",
       "==============================================================================\n",
       "Omnibus:                     6679.025   Durbin-Watson:                   2.000\n",
       "Prob(Omnibus):                  0.000   Jarque-Bera (JB):            16750.253\n",
       "Skew:                           1.569   Prob(JB):                         0.00\n",
       "Kurtosis:                       5.692   Cond. No.                     1.59e+18\n",
       "==============================================================================\n",
       "\n",
       "Notes:\n",
       "[1] Standard Errors assume that the covariance matrix of the errors is correctly specified.\n",
       "[2] The smallest eigenvalue is 3.81e-26. This might indicate that there are\n",
       "strong multicollinearity problems or that the design matrix is singular.\n",
       "\"\"\""
      ]
     },
     "execution_count": 155,
     "metadata": {},
     "output_type": "execute_result"
    }
   ],
   "source": [
    "model = stats.OLS(Y_axis,X_axis)\n",
    "result = model.fit()\n",
    "result.summary()"
   ]
  },
  {
   "cell_type": "code",
   "execution_count": 157,
   "metadata": {},
   "outputs": [
    {
     "name": "stdout",
     "output_type": "stream",
     "text": [
      "The sum of square residuals is 2095.7\n"
     ]
    }
   ],
   "source": [
    "print('The sum of square residuals is {:.1f}'.format(result.ssr))"
   ]
  },
  {
   "cell_type": "markdown",
   "metadata": {},
   "source": [
    "Due to the fact that the R squared and Adj R squared value are low we will try to remove some columns with pvalues > 0.05"
   ]
  }
 ],
 "metadata": {
  "kernelspec": {
   "display_name": "Python 3",
   "language": "python",
   "name": "python3"
  },
  "language_info": {
   "codemirror_mode": {
    "name": "ipython",
    "version": 3
   },
   "file_extension": ".py",
   "mimetype": "text/x-python",
   "name": "python",
   "nbconvert_exporter": "python",
   "pygments_lexer": "ipython3",
   "version": "3.10.6"
  }
 },
 "nbformat": 4,
 "nbformat_minor": 2
}
